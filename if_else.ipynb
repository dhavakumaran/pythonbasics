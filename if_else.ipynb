{
 "cells": [
  {
   "cell_type": "code",
   "execution_count": 6,
   "metadata": {},
   "outputs": [
    {
     "name": "stdin",
     "output_type": "stream",
     "text": [
      "type any number: 5\n"
     ]
    },
    {
     "name": "stdout",
     "output_type": "stream",
     "text": [
      "a is greater then b\n"
     ]
    }
   ],
   "source": [
    "a=\"7\"\n",
    "#b=int(input(\"type any number:\"))\n",
    "b=input(\"type any number:\")\n",
    "if a==b:\n",
    "    print(\"a is equal to b\")\n",
    "    print(\"still under statement\")\n",
    "elif a>b:\n",
    "    print(\"a is greater then b\")\n",
    "else:\n",
    "    print(\"a is lesser then b\")\n"
   ]
  },
  {
   "cell_type": "code",
   "execution_count": 9,
   "metadata": {},
   "outputs": [
    {
     "name": "stdin",
     "output_type": "stream",
     "text": [
      "Enter First String?  5\n",
      "Enter Second String?  5\n"
     ]
    },
    {
     "name": "stdout",
     "output_type": "stream",
     "text": [
      "You entered same strings!\n"
     ]
    }
   ],
   "source": [
    "str_input1 = input(\"Enter First String? \")\n",
    " \n",
    "str_input2 = input(\"Enter Second String? \")\n",
    " \n",
    " \n",
    " \n",
    "#comparing by != (not equal to)\n",
    " \n",
    "if str_input1 != str_input2:\n",
    " \n",
    "    print (\"Both Strings are different!\")\n",
    " \n",
    "else:\n",
    " \n",
    "    print (\"You entered same strings!\")"
   ]
  },
  {
   "cell_type": "code",
   "execution_count": null,
   "metadata": {},
   "outputs": [],
   "source": [
    "str_input=input(\"enter your name\")\n",
    "x = str_input.capitalize()\n",
    "print(\"welcome\",x)\n",
    "print(\"hi\",x)\n",
    "str1=input(\"enter your age\")\n",
    "if str1!=int:\n",
    "    print(\"this is not a number,please enter a number\")\n",
    "    y=input(\"enter your age\")\n",
    "str2=input(\"enter your blood group\")\n",
    "str3input(\"enter your mobile number\")\n",
    "if str3!=int:\n",
    "    print(\"this is not a number,please enter a number\")\n",
    "    z=input(\"enter your mobile number\")"
   ]
  },
  {
   "cell_type": "code",
   "execution_count": 4,
   "metadata": {},
   "outputs": [
    {
     "name": "stdout",
     "output_type": "stream",
     "text": [
      "onetwothreefourfivesix\n"
     ]
    }
   ],
   "source": []
  },
  {
   "cell_type": "code",
   "execution_count": null,
   "metadata": {},
   "outputs": [],
   "source": []
  },
  {
   "cell_type": "code",
   "execution_count": null,
   "metadata": {},
   "outputs": [],
   "source": []
  }
 ],
 "metadata": {
  "kernelspec": {
   "display_name": "Python 3",
   "language": "python",
   "name": "python3"
  },
  "language_info": {
   "codemirror_mode": {
    "name": "ipython",
    "version": 3
   },
   "file_extension": ".py",
   "mimetype": "text/x-python",
   "name": "python",
   "nbconvert_exporter": "python",
   "pygments_lexer": "ipython3",
   "version": "3.7.3"
  }
 },
 "nbformat": 4,
 "nbformat_minor": 2
}
