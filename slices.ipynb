{
 "cells": [
  {
   "cell_type": "code",
   "execution_count": 3,
   "metadata": {},
   "outputs": [
    {
     "name": "stdout",
     "output_type": "stream",
     "text": [
      "Initial String: \n",
      "GeeksForGeeks\n",
      "\n",
      "First character of String is: \n",
      "G\n",
      "\n",
      "Last character of String is: \n",
      "s\n"
     ]
    }
   ],
   "source": [
    "String1 = \"GeeksForGeeks\" #declaring string variable String1\n",
    "print(\"Initial String: \") \n",
    "print(String1) \n",
    "  \n",
    "# Printing First character \n",
    "print(\"\\nFirst character of String is: \") \n",
    "print(String1[0]) \n",
    "  \n",
    "# Printing Last character \n",
    "print(\"\\nLast character of String is: \") \n",
    "print(String1[-1]) \n",
    "\n"
   ]
  },
  {
   "cell_type": "code",
   "execution_count": 9,
   "metadata": {},
   "outputs": [
    {
     "name": "stdout",
     "output_type": "stream",
     "text": [
      "Initial String: \n",
      "GeeksForGeeks\n",
      "First character of String is: \n",
      "G\n",
      "Last character of String is: \n",
      "\n",
      " s\n",
      "This is a  string\n"
     ]
    }
   ],
   "source": [
    "String1 = \"GeeksForGeeks\" #declaring string variable String1\n",
    "print(\"Initial String: \") \n",
    "print(String1) \n",
    "  \n",
    "# Printing First character \n",
    "print(\"First character of String is: \") \n",
    "print(String1[0]) \n",
    "  \n",
    "# Printing Last character \n",
    "print(\"Last character of String is: \") \n",
    "print(\"\\n\", String1[-1]) \n",
    "\n",
    "\n",
    "# String is a collection of letters.\n",
    "# Variable is a string with assigned value.\n",
    "# A string should be represented within a double or single quotes. \n",
    "# A variable cannot be represented within a quotes\n",
    "# Eg:- \n",
    "x=\"This is a  string\"\n",
    "#   here x is a varible and the strings declared within double quotes\n",
    "print(x)\n",
    "# The varibale x is used to print and its used without any quotes"
   ]
  },
  {
   "cell_type": "code",
   "execution_count": 3,
   "metadata": {},
   "outputs": [
    {
     "name": "stdout",
     "output_type": "stream",
     "text": [
      "uma\n",
      "31\n",
      "4811111\n"
     ]
    }
   ],
   "source": [
    "a=\"uma baranikannan\"\n",
    "#print(a[0:3])\n",
    "# print(a[0:10])\n",
    "# print(len(a))\n",
    "# print(a[4:10]+a[0:3])\n",
    "# print(a[0:16:2])\n",
    "# print(a[0:16:2])\n",
    "# print(a[2:16:2])\n",
    "b=\"1234567891011121314151617181920\"\n",
    "print(len(b))\n",
    "print(b[3:32:4])\n",
    "\n",
    "\n"
   ]
  },
  {
   "cell_type": "code",
   "execution_count": 8,
   "metadata": {},
   "outputs": [
    {
     "name": "stdout",
     "output_type": "stream",
     "text": [
      "['192', '168_1', '1']\n",
      "['', '92.', '68_', '.', '']\n",
      "['', '92.168_1.1']\n",
      "['', '92.', '68_1.1']\n"
     ]
    }
   ],
   "source": [
    "a=\"192.168_1.1\"\n",
    "print(a.split('.'))\n",
    "print(a.split('1'))\n",
    "print(a.split('1',maxsplit=1))\n",
    "print(a.split('1',maxsplit=2))\n",
    "\n",
    "\n",
    "\n",
    "\n"
   ]
  },
  {
   "cell_type": "code",
   "execution_count": 4,
   "metadata": {},
   "outputs": [
    {
     "name": "stdout",
     "output_type": "stream",
     "text": [
      "<class 'int'>\n",
      "<class 'float'>\n",
      "<class 'str'>\n",
      "10.0\n",
      "<class 'float'>\n",
      "10\n",
      "<class 'int'>\n",
      "10\n"
     ]
    },
    {
     "ename": "ValueError",
     "evalue": "invalid literal for int() with base 10: 'barani'",
     "output_type": "error",
     "traceback": [
      "\u001b[1;31m---------------------------------------------------------------------------\u001b[0m",
      "\u001b[1;31mValueError\u001b[0m                                Traceback (most recent call last)",
      "\u001b[1;32m<ipython-input-4-7d8e7d195de1>\u001b[0m in \u001b[0;36m<module>\u001b[1;34m\u001b[0m\n\u001b[0;32m     14\u001b[0m \u001b[1;31m#c=int(c)\u001b[0m\u001b[1;33m\u001b[0m\u001b[1;33m\u001b[0m\u001b[1;33m\u001b[0m\u001b[0m\n\u001b[0;32m     15\u001b[0m \u001b[0mf\u001b[0m\u001b[1;33m=\u001b[0m\u001b[1;34m\"barani\"\u001b[0m\u001b[1;33m\u001b[0m\u001b[1;33m\u001b[0m\u001b[0m\n\u001b[1;32m---> 16\u001b[1;33m \u001b[0mx\u001b[0m\u001b[1;33m=\u001b[0m\u001b[0mint\u001b[0m\u001b[1;33m(\u001b[0m\u001b[0mf\u001b[0m\u001b[1;33m)\u001b[0m\u001b[1;33m\u001b[0m\u001b[1;33m\u001b[0m\u001b[0m\n\u001b[0m\u001b[0;32m     17\u001b[0m \u001b[1;33m\u001b[0m\u001b[0m\n\u001b[0;32m     18\u001b[0m \u001b[1;33m\u001b[0m\u001b[0m\n",
      "\u001b[1;31mValueError\u001b[0m: invalid literal for int() with base 10: 'barani'"
     ]
    }
   ],
   "source": [
    "a=5\n",
    "print(type(a))\n",
    "b=5.0\n",
    "print(type(b))\n",
    "c=\"5\"\n",
    "print(type (c))\n",
    "d=a+b\n",
    "print(d)\n",
    "print(type(d))\n",
    "d=int(d)\n",
    "print(d)\n",
    "print(type(d))\n",
    "print(a+int(c))\n",
    "#c=int(c)\n",
    "#f=\"barani\"\n",
    "#x=int(f)\n",
    "\n",
    "\n",
    "\n",
    "\n"
   ]
  },
  {
   "cell_type": "code",
   "execution_count": 17,
   "metadata": {},
   "outputs": [
    {
     "name": "stdout",
     "output_type": "stream",
     "text": [
      "value of c is 10.0\n",
      "value of d is 3.0\n",
      "value of e is 3.0\n",
      "value of a*2 is 10\n",
      "value of a*2.0 is 10.0\n",
      "value of f/2 is 5.0\n",
      "value of f/3 is 3.3333333333333335\n",
      "value of f//3 is 3\n",
      "<class 'int'>\n"
     ]
    }
   ],
   "source": [
    "a=5\n",
    "b=5.0\n",
    "c=a+b\n",
    "print(\"value of c is\", c)\n",
    "d=b-2\n",
    "print(\"value of d is\", d)\n",
    "e=a-2.0\n",
    "print(\"value of e is\", e)\n",
    "f=a*2\n",
    "print(\"value of a*2 is\", f)\n",
    "g=a*2.0\n",
    "print(\"value of a*2.0 is\", g)\n",
    "h=f/2\n",
    "print(\"value of f/2 is\", h)\n",
    "i=f/3\n",
    "print(\"value of f/3 is\", i)\n",
    "j=f//3\n",
    "print(\"value of f//3 is\", j)\n",
    "print(type(j))"
   ]
  },
  {
   "cell_type": "code",
   "execution_count": 19,
   "metadata": {},
   "outputs": [
    {
     "name": "stdout",
     "output_type": "stream",
     "text": [
      "0.1\n",
      "0.1000000000000000055511151231257827021181583404541015625\n"
     ]
    }
   ],
   "source": [
    "1.1+2.2\n",
    "import decimal\n",
    "\n",
    "print(0.1)\n",
    "\n",
    "print(decimal.Decimal(0.1))\n"
   ]
  },
  {
   "cell_type": "code",
   "execution_count": null,
   "metadata": {},
   "outputs": [],
   "source": []
  }
 ],
 "metadata": {
  "kernelspec": {
   "display_name": "Python 3",
   "language": "python",
   "name": "python3"
  },
  "language_info": {
   "codemirror_mode": {
    "name": "ipython",
    "version": 3
   },
   "file_extension": ".py",
   "mimetype": "text/x-python",
   "name": "python",
   "nbconvert_exporter": "python",
   "pygments_lexer": "ipython3",
   "version": "3.7.3"
  }
 },
 "nbformat": 4,
 "nbformat_minor": 2
}
